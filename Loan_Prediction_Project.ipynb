{
 "cells": [
  {
   "cell_type": "markdown",
   "id": "16434683",
   "metadata": {},
   "source": [
    "# Project Problem Statement:\n",
    "A Company wants to automate the loan eligibility process based on customer details provided while filling online application form. The details filled by the customer are Gender, Marital Status, Education, Number of Dependents, Income of self and co applicant, Required Loan Amount, Required Loan Term, Credit History and others. The requirements are as follows:\n",
    "\n",
    "1.Check eligibility of the Customer given the inputs described above.\n",
    "\n",
    "2.Identify customer segments from given data and categorize customer into one of the segments.\n",
    "\n",
    "3.If customer is not eligible for the input required amount and duration:\n",
    "\n",
    "3.1 What can be amount for the given duration. \n",
    "3.2 If duration is less than equal to 20 years, is customer eligible for  required amount for some longer duration?     What is that duration?\n"
   ]
  },
  {
   "cell_type": "code",
   "execution_count": 1,
   "id": "9b06f4b1",
   "metadata": {},
   "outputs": [],
   "source": [
    "from warnings import filterwarnings\n",
    "filterwarnings(\"ignore\")"
   ]
  },
  {
   "cell_type": "code",
   "execution_count": 3,
   "id": "8315f95d",
   "metadata": {},
   "outputs": [],
   "source": [
    "import pandas as pd\n",
    "A=pd.read_csv(\"C:/Users/LENOVO/Downloads/Training.csv\")"
   ]
  },
  {
   "cell_type": "code",
   "execution_count": 4,
   "id": "ed9cf7f4",
   "metadata": {},
   "outputs": [
    {
     "data": {
      "text/html": [
       "<div>\n",
       "<style scoped>\n",
       "    .dataframe tbody tr th:only-of-type {\n",
       "        vertical-align: middle;\n",
       "    }\n",
       "\n",
       "    .dataframe tbody tr th {\n",
       "        vertical-align: top;\n",
       "    }\n",
       "\n",
       "    .dataframe thead th {\n",
       "        text-align: right;\n",
       "    }\n",
       "</style>\n",
       "<table border=\"1\" class=\"dataframe\">\n",
       "  <thead>\n",
       "    <tr style=\"text-align: right;\">\n",
       "      <th></th>\n",
       "      <th>Loan_ID</th>\n",
       "      <th>Gender</th>\n",
       "      <th>Married</th>\n",
       "      <th>Dependents</th>\n",
       "      <th>Education</th>\n",
       "      <th>Self_Employed</th>\n",
       "      <th>ApplicantIncome</th>\n",
       "      <th>CoapplicantIncome</th>\n",
       "      <th>LoanAmount</th>\n",
       "      <th>Loan_Amount_Term</th>\n",
       "      <th>Credit_History</th>\n",
       "      <th>Property_Area</th>\n",
       "      <th>Loan_Status</th>\n",
       "    </tr>\n",
       "  </thead>\n",
       "  <tbody>\n",
       "    <tr>\n",
       "      <th>0</th>\n",
       "      <td>LP001002</td>\n",
       "      <td>Male</td>\n",
       "      <td>No</td>\n",
       "      <td>0</td>\n",
       "      <td>Graduate</td>\n",
       "      <td>No</td>\n",
       "      <td>5849.0</td>\n",
       "      <td>0.0</td>\n",
       "      <td>NaN</td>\n",
       "      <td>360.0</td>\n",
       "      <td>1.0</td>\n",
       "      <td>Urban</td>\n",
       "      <td>Y</td>\n",
       "    </tr>\n",
       "    <tr>\n",
       "      <th>1</th>\n",
       "      <td>LP001003</td>\n",
       "      <td>Male</td>\n",
       "      <td>Yes</td>\n",
       "      <td>1</td>\n",
       "      <td>Graduate</td>\n",
       "      <td>No</td>\n",
       "      <td>NaN</td>\n",
       "      <td>1508.0</td>\n",
       "      <td>128.0</td>\n",
       "      <td>360.0</td>\n",
       "      <td>1.0</td>\n",
       "      <td>Rural</td>\n",
       "      <td>N</td>\n",
       "    </tr>\n",
       "    <tr>\n",
       "      <th>2</th>\n",
       "      <td>LP001005</td>\n",
       "      <td>Male</td>\n",
       "      <td>Yes</td>\n",
       "      <td>0</td>\n",
       "      <td>Graduate</td>\n",
       "      <td>Yes</td>\n",
       "      <td>3000.0</td>\n",
       "      <td>0.0</td>\n",
       "      <td>66.0</td>\n",
       "      <td>360.0</td>\n",
       "      <td>1.0</td>\n",
       "      <td>Urban</td>\n",
       "      <td>Y</td>\n",
       "    </tr>\n",
       "    <tr>\n",
       "      <th>3</th>\n",
       "      <td>LP001006</td>\n",
       "      <td>Male</td>\n",
       "      <td>Yes</td>\n",
       "      <td>0</td>\n",
       "      <td>Not Graduate</td>\n",
       "      <td>No</td>\n",
       "      <td>2583.0</td>\n",
       "      <td>2358.0</td>\n",
       "      <td>120.0</td>\n",
       "      <td>360.0</td>\n",
       "      <td>1.0</td>\n",
       "      <td>Urban</td>\n",
       "      <td>Y</td>\n",
       "    </tr>\n",
       "    <tr>\n",
       "      <th>4</th>\n",
       "      <td>LP001008</td>\n",
       "      <td>Male</td>\n",
       "      <td>No</td>\n",
       "      <td>0</td>\n",
       "      <td>Graduate</td>\n",
       "      <td>No</td>\n",
       "      <td>6000.0</td>\n",
       "      <td>0.0</td>\n",
       "      <td>141.0</td>\n",
       "      <td>360.0</td>\n",
       "      <td>1.0</td>\n",
       "      <td>Urban</td>\n",
       "      <td>Y</td>\n",
       "    </tr>\n",
       "  </tbody>\n",
       "</table>\n",
       "</div>"
      ],
      "text/plain": [
       "    Loan_ID Gender Married Dependents     Education Self_Employed  \\\n",
       "0  LP001002   Male      No          0      Graduate            No   \n",
       "1  LP001003   Male     Yes          1      Graduate            No   \n",
       "2  LP001005   Male     Yes          0      Graduate           Yes   \n",
       "3  LP001006   Male     Yes          0  Not Graduate            No   \n",
       "4  LP001008   Male      No          0      Graduate            No   \n",
       "\n",
       "   ApplicantIncome  CoapplicantIncome  LoanAmount  Loan_Amount_Term  \\\n",
       "0           5849.0                0.0         NaN             360.0   \n",
       "1              NaN             1508.0       128.0             360.0   \n",
       "2           3000.0                0.0        66.0             360.0   \n",
       "3           2583.0             2358.0       120.0             360.0   \n",
       "4           6000.0                0.0       141.0             360.0   \n",
       "\n",
       "   Credit_History Property_Area Loan_Status  \n",
       "0             1.0         Urban           Y  \n",
       "1             1.0         Rural           N  \n",
       "2             1.0         Urban           Y  \n",
       "3             1.0         Urban           Y  \n",
       "4             1.0         Urban           Y  "
      ]
     },
     "execution_count": 4,
     "metadata": {},
     "output_type": "execute_result"
    }
   ],
   "source": [
    "A.head(5)"
   ]
  },
  {
   "cell_type": "markdown",
   "id": "053fac89",
   "metadata": {},
   "source": [
    "# Missing Data Treatement"
   ]
  },
  {
   "cell_type": "code",
   "execution_count": 5,
   "id": "1ff40ce0",
   "metadata": {},
   "outputs": [
    {
     "data": {
      "text/plain": [
       "Loan_ID               0\n",
       "Gender               15\n",
       "Married               3\n",
       "Dependents           15\n",
       "Education             1\n",
       "Self_Employed        32\n",
       "ApplicantIncome       2\n",
       "CoapplicantIncome     1\n",
       "LoanAmount           22\n",
       "Loan_Amount_Term     14\n",
       "Credit_History       50\n",
       "Property_Area         0\n",
       "Loan_Status           0\n",
       "dtype: int64"
      ]
     },
     "execution_count": 5,
     "metadata": {},
     "output_type": "execute_result"
    }
   ],
   "source": [
    "A.isna().sum()"
   ]
  },
  {
   "cell_type": "code",
   "execution_count": 6,
   "id": "ead398cf",
   "metadata": {},
   "outputs": [],
   "source": [
    "from preprocessing_6PM import replacer\n",
    "replacer(A)"
   ]
  },
  {
   "cell_type": "code",
   "execution_count": 7,
   "id": "a188776d",
   "metadata": {},
   "outputs": [
    {
     "data": {
      "text/plain": [
       "Loan_ID              0\n",
       "Gender               0\n",
       "Married              0\n",
       "Dependents           0\n",
       "Education            0\n",
       "Self_Employed        0\n",
       "ApplicantIncome      0\n",
       "CoapplicantIncome    0\n",
       "LoanAmount           0\n",
       "Loan_Amount_Term     0\n",
       "Credit_History       0\n",
       "Property_Area        0\n",
       "Loan_Status          0\n",
       "dtype: int64"
      ]
     },
     "execution_count": 7,
     "metadata": {},
     "output_type": "execute_result"
    }
   ],
   "source": [
    "A.isna().sum()"
   ]
  },
  {
   "cell_type": "code",
   "execution_count": 8,
   "id": "f9653044",
   "metadata": {},
   "outputs": [],
   "source": [
    "Y=A[[\"Loan_Status\"]]"
   ]
  },
  {
   "cell_type": "code",
   "execution_count": 9,
   "id": "449ae5a9",
   "metadata": {},
   "outputs": [],
   "source": [
    "X = A.drop(labels=[\"Loan_ID\",\"Loan_Status\"],axis=1)"
   ]
  },
  {
   "cell_type": "markdown",
   "id": "b2921496",
   "metadata": {},
   "source": [
    "# Exploratory Data Analysis"
   ]
  },
  {
   "cell_type": "code",
   "execution_count": 10,
   "id": "89c1165d",
   "metadata": {},
   "outputs": [],
   "source": [
    "cat=[]\n",
    "con=[]\n",
    "for i in X.columns:\n",
    "    if(X[i].dtypes==\"object\"):\n",
    "        cat.append(i)\n",
    "    else:\n",
    "        con.append(i)"
   ]
  },
  {
   "cell_type": "code",
   "execution_count": 11,
   "id": "d5215920",
   "metadata": {},
   "outputs": [],
   "source": [
    "imp_cols=[]"
   ]
  },
  {
   "cell_type": "code",
   "execution_count": 12,
   "id": "5651eeee",
   "metadata": {},
   "outputs": [
    {
     "name": "stdout",
     "output_type": "stream",
     "text": [
      "-------------\n",
      "Loan_Status vs ApplicantIncome\n",
      "Pval:  0.903\n",
      "-------------\n",
      "Loan_Status vs CoapplicantIncome\n",
      "Pval:  0.142\n",
      "-------------\n",
      "Loan_Status vs LoanAmount\n",
      "Pval:  0.368\n",
      "-------------\n",
      "Loan_Status vs Loan_Amount_Term\n",
      "Pval:  0.604\n",
      "-------------\n",
      "Loan_Status vs Credit_History\n",
      "Pval:  0.0\n"
     ]
    }
   ],
   "source": [
    "from PM8 import ANOVA\n",
    "for i in con:\n",
    "    q = ANOVA(A,\"Loan_Status\",i)\n",
    "    print(\"-------------\")\n",
    "    print(\"Loan_Status vs\",i)\n",
    "    print(\"Pval: \",q)\n",
    "    if(q < 0.15):\n",
    "        imp_cols.append(i)\n",
    "\n"
   ]
  },
  {
   "cell_type": "markdown",
   "id": "8955d5dc",
   "metadata": {},
   "source": [
    "# Preprocessing"
   ]
  },
  {
   "cell_type": "code",
   "execution_count": 13,
   "id": "ceff3f6c",
   "metadata": {},
   "outputs": [
    {
     "data": {
      "text/plain": [
       "ApplicantIncome      6.538870\n",
       "CoapplicantIncome    7.492000\n",
       "LoanAmount           2.726601\n",
       "Loan_Amount_Term    -2.389680\n",
       "Credit_History      -1.963600\n",
       "dtype: float64"
      ]
     },
     "execution_count": 13,
     "metadata": {},
     "output_type": "execute_result"
    }
   ],
   "source": [
    "X.skew()"
   ]
  },
  {
   "cell_type": "code",
   "execution_count": 14,
   "id": "8441c70d",
   "metadata": {},
   "outputs": [],
   "source": [
    "from numpy import log\n",
    "\n",
    "def skew_rem(df,col):\n",
    "    q = []\n",
    "    for i in df[col]:\n",
    "        if(i != 0):\n",
    "            q.append(log(i))\n",
    "        else:\n",
    "            q.append(i)\n",
    "    df[col] = q\n"
   ]
  },
  {
   "cell_type": "code",
   "execution_count": 15,
   "id": "5eec3161",
   "metadata": {},
   "outputs": [],
   "source": [
    "skew_rem(X,'ApplicantIncome')\n",
    "skew_rem(X,'CoapplicantIncome')"
   ]
  },
  {
   "cell_type": "code",
   "execution_count": 16,
   "id": "fae5ac38",
   "metadata": {},
   "outputs": [
    {
     "data": {
      "text/plain": [
       "ApplicantIncome      0.477562\n",
       "CoapplicantIncome   -0.172920\n",
       "LoanAmount           2.726601\n",
       "Loan_Amount_Term    -2.389680\n",
       "Credit_History      -1.963600\n",
       "dtype: float64"
      ]
     },
     "execution_count": 16,
     "metadata": {},
     "output_type": "execute_result"
    }
   ],
   "source": [
    "X.skew()"
   ]
  },
  {
   "cell_type": "code",
   "execution_count": 17,
   "id": "27c5432f",
   "metadata": {},
   "outputs": [],
   "source": [
    "X1=A[[\"CoapplicantIncome\",\"Credit_History\",\"Married\",\"Education\",\"Property_Area\"]]"
   ]
  },
  {
   "cell_type": "code",
   "execution_count": 18,
   "id": "4ea4e397",
   "metadata": {},
   "outputs": [],
   "source": [
    "from PM8 import preprocessing\n",
    "Xnew = preprocessing(X1)\n"
   ]
  },
  {
   "cell_type": "code",
   "execution_count": 19,
   "id": "b926ba6b",
   "metadata": {},
   "outputs": [
    {
     "data": {
      "text/html": [
       "<div>\n",
       "<style scoped>\n",
       "    .dataframe tbody tr th:only-of-type {\n",
       "        vertical-align: middle;\n",
       "    }\n",
       "\n",
       "    .dataframe tbody tr th {\n",
       "        vertical-align: top;\n",
       "    }\n",
       "\n",
       "    .dataframe thead th {\n",
       "        text-align: right;\n",
       "    }\n",
       "</style>\n",
       "<table border=\"1\" class=\"dataframe\">\n",
       "  <thead>\n",
       "    <tr style=\"text-align: right;\">\n",
       "      <th></th>\n",
       "      <th>CoapplicantIncome</th>\n",
       "      <th>Credit_History</th>\n",
       "      <th>Married_No</th>\n",
       "      <th>Married_Yes</th>\n",
       "      <th>Education_Graduate</th>\n",
       "      <th>Education_Not Graduate</th>\n",
       "      <th>Property_Area_Rural</th>\n",
       "      <th>Property_Area_Semiurban</th>\n",
       "      <th>Property_Area_Urban</th>\n",
       "    </tr>\n",
       "  </thead>\n",
       "  <tbody>\n",
       "    <tr>\n",
       "      <th>0</th>\n",
       "      <td>-0.554368</td>\n",
       "      <td>0.45164</td>\n",
       "      <td>1</td>\n",
       "      <td>0</td>\n",
       "      <td>1</td>\n",
       "      <td>0</td>\n",
       "      <td>0</td>\n",
       "      <td>0</td>\n",
       "      <td>1</td>\n",
       "    </tr>\n",
       "    <tr>\n",
       "      <th>1</th>\n",
       "      <td>-0.038610</td>\n",
       "      <td>0.45164</td>\n",
       "      <td>0</td>\n",
       "      <td>1</td>\n",
       "      <td>1</td>\n",
       "      <td>0</td>\n",
       "      <td>1</td>\n",
       "      <td>0</td>\n",
       "      <td>0</td>\n",
       "    </tr>\n",
       "    <tr>\n",
       "      <th>2</th>\n",
       "      <td>-0.554368</td>\n",
       "      <td>0.45164</td>\n",
       "      <td>0</td>\n",
       "      <td>1</td>\n",
       "      <td>1</td>\n",
       "      <td>0</td>\n",
       "      <td>0</td>\n",
       "      <td>0</td>\n",
       "      <td>1</td>\n",
       "    </tr>\n",
       "    <tr>\n",
       "      <th>3</th>\n",
       "      <td>0.252103</td>\n",
       "      <td>0.45164</td>\n",
       "      <td>0</td>\n",
       "      <td>1</td>\n",
       "      <td>0</td>\n",
       "      <td>1</td>\n",
       "      <td>0</td>\n",
       "      <td>0</td>\n",
       "      <td>1</td>\n",
       "    </tr>\n",
       "    <tr>\n",
       "      <th>4</th>\n",
       "      <td>-0.554368</td>\n",
       "      <td>0.45164</td>\n",
       "      <td>1</td>\n",
       "      <td>0</td>\n",
       "      <td>1</td>\n",
       "      <td>0</td>\n",
       "      <td>0</td>\n",
       "      <td>0</td>\n",
       "      <td>1</td>\n",
       "    </tr>\n",
       "  </tbody>\n",
       "</table>\n",
       "</div>"
      ],
      "text/plain": [
       "   CoapplicantIncome  Credit_History  Married_No  Married_Yes  \\\n",
       "0          -0.554368         0.45164           1            0   \n",
       "1          -0.038610         0.45164           0            1   \n",
       "2          -0.554368         0.45164           0            1   \n",
       "3           0.252103         0.45164           0            1   \n",
       "4          -0.554368         0.45164           1            0   \n",
       "\n",
       "   Education_Graduate  Education_Not Graduate  Property_Area_Rural  \\\n",
       "0                   1                       0                    0   \n",
       "1                   1                       0                    1   \n",
       "2                   1                       0                    0   \n",
       "3                   0                       1                    0   \n",
       "4                   1                       0                    0   \n",
       "\n",
       "   Property_Area_Semiurban  Property_Area_Urban  \n",
       "0                        0                    1  \n",
       "1                        0                    0  \n",
       "2                        0                    1  \n",
       "3                        0                    1  \n",
       "4                        0                    1  "
      ]
     },
     "execution_count": 19,
     "metadata": {},
     "output_type": "execute_result"
    }
   ],
   "source": [
    "Xnew.head()"
   ]
  },
  {
   "cell_type": "markdown",
   "id": "3545c635",
   "metadata": {},
   "source": [
    "# Divide Data IN training and testing"
   ]
  },
  {
   "cell_type": "code",
   "execution_count": 20,
   "id": "49d12c65",
   "metadata": {},
   "outputs": [],
   "source": [
    "from sklearn.model_selection import train_test_split\n",
    "xtrain,xtest,ytrain,ytest=train_test_split(Xnew,Y,test_size=0.2,random_state=21)"
   ]
  },
  {
   "cell_type": "markdown",
   "id": "87bffa15",
   "metadata": {},
   "source": [
    "# Create a ML  model"
   ]
  },
  {
   "cell_type": "code",
   "execution_count": 21,
   "id": "315737fe",
   "metadata": {},
   "outputs": [],
   "source": [
    "from sklearn.linear_model import LogisticRegression\n",
    "lr = LogisticRegression()\n",
    "\n",
    "model = lr.fit(xtrain,ytrain)"
   ]
  },
  {
   "cell_type": "markdown",
   "id": "42427be2",
   "metadata": {},
   "source": [
    "# Create prediction"
   ]
  },
  {
   "cell_type": "code",
   "execution_count": 22,
   "id": "a3ecc828",
   "metadata": {},
   "outputs": [],
   "source": [
    "pred_tr = model.predict(xtrain)\n",
    "pred_ts = model.predict(xtest)"
   ]
  },
  {
   "cell_type": "markdown",
   "id": "bc2e9a01",
   "metadata": {},
   "source": [
    "# Error/Loss Overfitting?"
   ]
  },
  {
   "cell_type": "code",
   "execution_count": 23,
   "id": "29efbeb0",
   "metadata": {},
   "outputs": [],
   "source": [
    "from sklearn.metrics import accuracy_score\n",
    "tr_acc = accuracy_score(ytrain,pred_tr)\n",
    "ts_acc = accuracy_score(ytest,pred_ts)"
   ]
  },
  {
   "cell_type": "code",
   "execution_count": 24,
   "id": "6405e348",
   "metadata": {},
   "outputs": [
    {
     "data": {
      "text/plain": [
       "0.8126272912423625"
      ]
     },
     "execution_count": 24,
     "metadata": {},
     "output_type": "execute_result"
    }
   ],
   "source": [
    "tr_acc"
   ]
  },
  {
   "cell_type": "code",
   "execution_count": 25,
   "id": "7818849b",
   "metadata": {},
   "outputs": [
    {
     "data": {
      "text/plain": [
       "0.8130081300813008"
      ]
     },
     "execution_count": 25,
     "metadata": {},
     "output_type": "execute_result"
    }
   ],
   "source": [
    "ts_acc"
   ]
  },
  {
   "cell_type": "markdown",
   "id": "4759641a",
   "metadata": {},
   "source": [
    "# Try Tree model\n"
   ]
  },
  {
   "cell_type": "code",
   "execution_count": 26,
   "id": "9e9c1593",
   "metadata": {},
   "outputs": [],
   "source": [
    "X = A.drop(labels=[\"Loan_ID\",\"Loan_Status\"],axis=1)\n",
    "Xnew = preprocessing(X)\n",
    "from sklearn.model_selection import train_test_split\n",
    "xtrain,xtest,ytrain,ytest=train_test_split(Xnew,Y,test_size=0.2,random_state=21)\n",
    "\n",
    "from sklearn.tree import DecisionTreeClassifier\n",
    "dtc = DecisionTreeClassifier()\n",
    "model = dtc.fit(xtrain,ytrain)\n",
    "\n",
    "pred_tr = model.predict(xtrain)\n",
    "pred_ts = model.predict(xtest)\n",
    "\n",
    "from sklearn.metrics import accuracy_score\n",
    "tr_acc = accuracy_score(ytrain,pred_tr)\n",
    "ts_acc = accuracy_score(ytest,pred_ts)"
   ]
  },
  {
   "cell_type": "code",
   "execution_count": 27,
   "id": "dbf832df",
   "metadata": {},
   "outputs": [
    {
     "data": {
      "text/plain": [
       "1.0"
      ]
     },
     "execution_count": 27,
     "metadata": {},
     "output_type": "execute_result"
    }
   ],
   "source": [
    "tr_acc"
   ]
  },
  {
   "cell_type": "code",
   "execution_count": 28,
   "id": "de47ba78",
   "metadata": {},
   "outputs": [
    {
     "data": {
      "text/plain": [
       "0.7073170731707317"
      ]
     },
     "execution_count": 28,
     "metadata": {},
     "output_type": "execute_result"
    }
   ],
   "source": [
    "ts_acc"
   ]
  },
  {
   "cell_type": "code",
   "execution_count": 29,
   "id": "236d2322",
   "metadata": {},
   "outputs": [],
   "source": [
    "from sklearn.tree import DecisionTreeClassifier\n",
    "dtc = DecisionTreeClassifier()\n",
    "def tree(dtc):\n",
    "    model = dtc.fit(xtrain,ytrain)\n",
    "    pred_tr = model.predict(xtrain)\n",
    "    pred_ts = model.predict(xtest)\n",
    "    from sklearn.metrics import accuracy_score\n",
    "    tr_acc = accuracy_score(ytrain,pred_tr)\n",
    "    ts_acc = accuracy_score(ytest,pred_ts)\n",
    "    return tr_acc,ts_acc"
   ]
  },
  {
   "cell_type": "code",
   "execution_count": 30,
   "id": "1b47cc9d",
   "metadata": {},
   "outputs": [
    {
     "data": {
      "text/plain": [
       "(1.0, 0.6991869918699187)"
      ]
     },
     "execution_count": 30,
     "metadata": {},
     "output_type": "execute_result"
    }
   ],
   "source": [
    "tree(dtc)\n"
   ]
  },
  {
   "cell_type": "code",
   "execution_count": 31,
   "id": "8bc92c87",
   "metadata": {},
   "outputs": [
    {
     "name": "stdout",
     "output_type": "stream",
     "text": [
      "(0.814663951120163, 0.8211382113821138)\n",
      "(0.814663951120163, 0.8211382113821138)\n",
      "(0.8268839103869654, 0.7886178861788617)\n",
      "(0.8370672097759674, 0.8048780487804879)\n",
      "(0.8553971486761711, 0.7886178861788617)\n",
      "(0.8737270875763747, 0.7804878048780488)\n",
      "(0.890020366598778, 0.7723577235772358)\n",
      "(0.90020366598778, 0.7642276422764228)\n",
      "(0.9226069246435845, 0.7642276422764228)\n",
      "(0.9389002036659878, 0.7154471544715447)\n",
      "(0.9531568228105907, 0.6991869918699187)\n",
      "(0.9613034623217923, 0.6910569105691057)\n",
      "(0.9674134419551935, 0.6747967479674797)\n",
      "(0.9796334012219959, 0.6829268292682927)\n",
      "(0.9877800407331976, 0.7073170731707317)\n",
      "(0.9959266802443992, 0.6910569105691057)\n",
      "(0.9979633401221996, 0.6829268292682927)\n",
      "(1.0, 0.6910569105691057)\n",
      "(1.0, 0.6910569105691057)\n",
      "(1.0, 0.6910569105691057)\n",
      "(1.0, 0.6910569105691057)\n",
      "(1.0, 0.6910569105691057)\n",
      "(1.0, 0.6910569105691057)\n",
      "(1.0, 0.6910569105691057)\n",
      "(1.0, 0.6910569105691057)\n",
      "(1.0, 0.6910569105691057)\n",
      "(1.0, 0.6910569105691057)\n",
      "(1.0, 0.6910569105691057)\n"
     ]
    }
   ],
   "source": [
    "for i in range(2,30,1):\n",
    "    from sklearn.tree import DecisionTreeClassifier\n",
    "    dtc = DecisionTreeClassifier(random_state=21,max_depth=i)\n",
    "    print(tree(dtc))"
   ]
  },
  {
   "cell_type": "code",
   "execution_count": 32,
   "id": "cbe3a8e2",
   "metadata": {},
   "outputs": [
    {
     "name": "stdout",
     "output_type": "stream",
     "text": [
      "(0.9470468431771895, 0.6747967479674797)\n",
      "(0.9144602851323829, 0.6910569105691057)\n",
      "(0.8859470468431772, 0.6991869918699187)\n",
      "(0.8757637474541752, 0.7398373983739838)\n",
      "(0.8574338085539714, 0.6829268292682927)\n",
      "(0.8472505091649695, 0.7154471544715447)\n",
      "(0.8411405295315683, 0.7154471544715447)\n",
      "(0.8411405295315683, 0.7235772357723578)\n",
      "(0.8309572301425662, 0.7560975609756098)\n",
      "(0.8309572301425662, 0.7723577235772358)\n",
      "(0.8309572301425662, 0.7723577235772358)\n",
      "(0.8309572301425662, 0.7723577235772358)\n",
      "(0.8289205702647657, 0.7723577235772358)\n",
      "(0.8309572301425662, 0.7560975609756098)\n",
      "(0.8268839103869654, 0.7479674796747967)\n",
      "(0.8228105906313645, 0.7560975609756098)\n",
      "(0.814663951120163, 0.7073170731707317)\n",
      "(0.814663951120163, 0.7073170731707317)\n",
      "(0.814663951120163, 0.7073170731707317)\n",
      "(0.814663951120163, 0.6991869918699187)\n",
      "(0.8105906313645621, 0.6829268292682927)\n",
      "(0.8085539714867617, 0.7723577235772358)\n",
      "(0.8085539714867617, 0.7723577235772358)\n",
      "(0.8085539714867617, 0.7723577235772358)\n",
      "(0.8065173116089613, 0.8211382113821138)\n",
      "(0.8065173116089613, 0.8211382113821138)\n",
      "(0.8065173116089613, 0.8211382113821138)\n",
      "(0.8065173116089613, 0.8211382113821138)\n"
     ]
    }
   ],
   "source": [
    "for i in range(2,30,1):\n",
    "    from sklearn.tree import DecisionTreeClassifier\n",
    "    dtc = DecisionTreeClassifier(random_state=21,min_samples_leaf=i)\n",
    "    print(tree(dtc))"
   ]
  },
  {
   "cell_type": "code",
   "execution_count": 33,
   "id": "5b87de2c",
   "metadata": {},
   "outputs": [
    {
     "name": "stdout",
     "output_type": "stream",
     "text": [
      "(1.0, 0.6910569105691057)\n",
      "(0.9877800407331976, 0.6991869918699187)\n",
      "(0.9694501018329938, 0.7073170731707317)\n",
      "(0.955193482688391, 0.6910569105691057)\n",
      "(0.9368635437881874, 0.6829268292682927)\n",
      "(0.9226069246435845, 0.6747967479674797)\n",
      "(0.9185336048879837, 0.6747967479674797)\n",
      "(0.9185336048879837, 0.6747967479674797)\n",
      "(0.9063136456211812, 0.6829268292682927)\n",
      "(0.9022403258655805, 0.6829268292682927)\n",
      "(0.9022403258655805, 0.6829268292682927)\n",
      "(0.9022403258655805, 0.6829268292682927)\n",
      "(0.8961303462321792, 0.6910569105691057)\n",
      "(0.890020366598778, 0.6747967479674797)\n",
      "(0.8879837067209776, 0.6829268292682927)\n",
      "(0.8879837067209776, 0.6829268292682927)\n",
      "(0.8879837067209776, 0.6829268292682927)\n",
      "(0.8859470468431772, 0.6829268292682927)\n",
      "(0.8859470468431772, 0.6829268292682927)\n",
      "(0.879837067209776, 0.6910569105691057)\n",
      "(0.8778004073319755, 0.6910569105691057)\n",
      "(0.8778004073319755, 0.6910569105691057)\n",
      "(0.8778004073319755, 0.6991869918699187)\n",
      "(0.8757637474541752, 0.6991869918699187)\n",
      "(0.8716904276985743, 0.6991869918699187)\n",
      "(0.8716904276985743, 0.6991869918699187)\n",
      "(0.8716904276985743, 0.6991869918699187)\n",
      "(0.8655804480651731, 0.7073170731707317)\n",
      "(0.8655804480651731, 0.7073170731707317)\n",
      "(0.8635437881873728, 0.7154471544715447)\n",
      "(0.8635437881873728, 0.7154471544715447)\n",
      "(0.8635437881873728, 0.7154471544715447)\n",
      "(0.8615071283095723, 0.7154471544715447)\n",
      "(0.8574338085539714, 0.7154471544715447)\n",
      "(0.8574338085539714, 0.7154471544715447)\n",
      "(0.8574338085539714, 0.7154471544715447)\n",
      "(0.8553971486761711, 0.7073170731707317)\n",
      "(0.8533604887983707, 0.7154471544715447)\n"
     ]
    }
   ],
   "source": [
    "for i in range(2,40,1):\n",
    "    from sklearn.tree import DecisionTreeClassifier\n",
    "    dtc = DecisionTreeClassifier(random_state=21,min_samples_split=i)\n",
    "    print(tree(dtc))"
   ]
  },
  {
   "cell_type": "markdown",
   "id": "5b550147",
   "metadata": {},
   "source": [
    "# Try Adaboost"
   ]
  },
  {
   "cell_type": "code",
   "execution_count": 34,
   "id": "036490cc",
   "metadata": {},
   "outputs": [
    {
     "data": {
      "text/plain": [
       "(0.9063136456211812, 0.7073170731707317)"
      ]
     },
     "execution_count": 34,
     "metadata": {},
     "output_type": "execute_result"
    }
   ],
   "source": [
    "from sklearn.ensemble import AdaBoostClassifier\n",
    "abc = AdaBoostClassifier(DecisionTreeClassifier(random_state=21,max_depth=2),n_estimators=30)\n",
    "tree(abc)"
   ]
  },
  {
   "cell_type": "code",
   "execution_count": 35,
   "id": "8f250a5a",
   "metadata": {},
   "outputs": [
    {
     "name": "stdout",
     "output_type": "stream",
     "text": [
      "(0.814663951120163, 0.8211382113821138)\n",
      "(0.814663951120163, 0.7804878048780488)\n",
      "(0.8167006109979633, 0.7723577235772358)\n",
      "(0.8187372708757638, 0.7560975609756098)\n",
      "(0.8289205702647657, 0.7154471544715447)\n",
      "(0.8268839103869654, 0.7154471544715447)\n",
      "(0.8329938900203666, 0.7235772357723578)\n",
      "(0.8431771894093686, 0.7235772357723578)\n",
      "(0.8472505091649695, 0.7235772357723578)\n",
      "(0.8533604887983707, 0.7235772357723578)\n",
      "(0.8574338085539714, 0.7398373983739838)\n",
      "(0.8635437881873728, 0.7398373983739838)\n",
      "(0.8615071283095723, 0.7560975609756098)\n",
      "(0.869653767820774, 0.7154471544715447)\n",
      "(0.8716904276985743, 0.7073170731707317)\n",
      "(0.8737270875763747, 0.7073170731707317)\n",
      "(0.8757637474541752, 0.7479674796747967)\n",
      "(0.8839103869653768, 0.7235772357723578)\n",
      "(0.8839103869653768, 0.7317073170731707)\n",
      "(0.879837067209776, 0.7398373983739838)\n",
      "(0.8961303462321792, 0.7073170731707317)\n",
      "(0.8940936863543788, 0.6991869918699187)\n",
      "(0.8961303462321792, 0.6991869918699187)\n",
      "(0.90020366598778, 0.6910569105691057)\n",
      "(0.90020366598778, 0.6910569105691057)\n",
      "(0.8981670061099797, 0.6991869918699187)\n",
      "(0.8920570264765784, 0.7073170731707317)\n",
      "(0.8981670061099797, 0.7073170731707317)\n",
      "(0.9063136456211812, 0.7073170731707317)\n",
      "(0.9144602851323829, 0.7154471544715447)\n",
      "(0.9144602851323829, 0.7154471544715447)\n",
      "(0.9164969450101833, 0.7154471544715447)\n",
      "(0.9205702647657841, 0.7073170731707317)\n",
      "(0.9287169042769857, 0.6910569105691057)\n",
      "(0.9287169042769857, 0.6747967479674797)\n",
      "(0.9287169042769857, 0.6910569105691057)\n",
      "(0.9327902240325866, 0.6747967479674797)\n",
      "(0.9266802443991853, 0.7073170731707317)\n",
      "(0.9226069246435845, 0.6991869918699187)\n",
      "(0.9226069246435845, 0.6991869918699187)\n",
      "(0.9287169042769857, 0.6991869918699187)\n",
      "(0.9287169042769857, 0.7073170731707317)\n",
      "(0.9307535641547862, 0.6991869918699187)\n",
      "(0.9389002036659878, 0.7073170731707317)\n",
      "(0.9389002036659878, 0.6910569105691057)\n",
      "(0.9429735234215886, 0.6829268292682927)\n",
      "(0.9429735234215886, 0.6829268292682927)\n",
      "(0.9470468431771895, 0.6910569105691057)\n"
     ]
    }
   ],
   "source": [
    "for i in range(2,50):\n",
    "    abc = AdaBoostClassifier(DecisionTreeClassifier(random_state=21,max_depth=2),n_estimators=i)\n",
    "    print(tree(abc))"
   ]
  },
  {
   "cell_type": "code",
   "execution_count": 36,
   "id": "bc7c3fdf",
   "metadata": {},
   "outputs": [],
   "source": [
    "dtc = DecisionTreeClassifier(random_state=21,max_depth=2)\n",
    "model = dtc.fit(Xnew,Y)"
   ]
  },
  {
   "cell_type": "markdown",
   "id": "98ae1ef1",
   "metadata": {},
   "source": [
    "# Make Predictiion using best model"
   ]
  },
  {
   "cell_type": "code",
   "execution_count": 38,
   "id": "07be1f30",
   "metadata": {},
   "outputs": [],
   "source": [
    "B = pd.read_csv(\"C:/Users/LENOVO/Downloads/Testing.csv\")\n"
   ]
  },
  {
   "cell_type": "code",
   "execution_count": 39,
   "id": "c4fdb7cc",
   "metadata": {},
   "outputs": [
    {
     "data": {
      "text/html": [
       "<div>\n",
       "<style scoped>\n",
       "    .dataframe tbody tr th:only-of-type {\n",
       "        vertical-align: middle;\n",
       "    }\n",
       "\n",
       "    .dataframe tbody tr th {\n",
       "        vertical-align: top;\n",
       "    }\n",
       "\n",
       "    .dataframe thead th {\n",
       "        text-align: right;\n",
       "    }\n",
       "</style>\n",
       "<table border=\"1\" class=\"dataframe\">\n",
       "  <thead>\n",
       "    <tr style=\"text-align: right;\">\n",
       "      <th></th>\n",
       "      <th>Loan_ID</th>\n",
       "      <th>Gender</th>\n",
       "      <th>Married</th>\n",
       "      <th>Dependents</th>\n",
       "      <th>Education</th>\n",
       "      <th>Self_Employed</th>\n",
       "      <th>ApplicantIncome</th>\n",
       "      <th>CoapplicantIncome</th>\n",
       "      <th>LoanAmount</th>\n",
       "      <th>Loan_Amount_Term</th>\n",
       "      <th>Credit_History</th>\n",
       "      <th>Property_Area</th>\n",
       "    </tr>\n",
       "  </thead>\n",
       "  <tbody>\n",
       "    <tr>\n",
       "      <th>0</th>\n",
       "      <td>LP001015</td>\n",
       "      <td>Male</td>\n",
       "      <td>Yes</td>\n",
       "      <td>0</td>\n",
       "      <td>Graduate</td>\n",
       "      <td>No</td>\n",
       "      <td>5720</td>\n",
       "      <td>0</td>\n",
       "      <td>110.0</td>\n",
       "      <td>360.0</td>\n",
       "      <td>1.0</td>\n",
       "      <td>Urban</td>\n",
       "    </tr>\n",
       "    <tr>\n",
       "      <th>1</th>\n",
       "      <td>LP001022</td>\n",
       "      <td>Male</td>\n",
       "      <td>Yes</td>\n",
       "      <td>1</td>\n",
       "      <td>Graduate</td>\n",
       "      <td>No</td>\n",
       "      <td>3076</td>\n",
       "      <td>1500</td>\n",
       "      <td>126.0</td>\n",
       "      <td>360.0</td>\n",
       "      <td>1.0</td>\n",
       "      <td>Urban</td>\n",
       "    </tr>\n",
       "    <tr>\n",
       "      <th>2</th>\n",
       "      <td>LP001031</td>\n",
       "      <td>Male</td>\n",
       "      <td>Yes</td>\n",
       "      <td>2</td>\n",
       "      <td>Graduate</td>\n",
       "      <td>No</td>\n",
       "      <td>5000</td>\n",
       "      <td>1800</td>\n",
       "      <td>208.0</td>\n",
       "      <td>360.0</td>\n",
       "      <td>1.0</td>\n",
       "      <td>Urban</td>\n",
       "    </tr>\n",
       "  </tbody>\n",
       "</table>\n",
       "</div>"
      ],
      "text/plain": [
       "    Loan_ID Gender Married Dependents Education Self_Employed  \\\n",
       "0  LP001015   Male     Yes          0  Graduate            No   \n",
       "1  LP001022   Male     Yes          1  Graduate            No   \n",
       "2  LP001031   Male     Yes          2  Graduate            No   \n",
       "\n",
       "   ApplicantIncome  CoapplicantIncome  LoanAmount  Loan_Amount_Term  \\\n",
       "0             5720                  0       110.0             360.0   \n",
       "1             3076               1500       126.0             360.0   \n",
       "2             5000               1800       208.0             360.0   \n",
       "\n",
       "   Credit_History Property_Area  \n",
       "0             1.0         Urban  \n",
       "1             1.0         Urban  \n",
       "2             1.0         Urban  "
      ]
     },
     "execution_count": 39,
     "metadata": {},
     "output_type": "execute_result"
    }
   ],
   "source": [
    "B.head(3)"
   ]
  },
  {
   "cell_type": "code",
   "execution_count": 40,
   "id": "1b1f5991",
   "metadata": {},
   "outputs": [],
   "source": [
    "X = B.drop(labels=[\"Loan_ID\"],axis=1)\n",
    "replacer(X)\n",
    "Xnew = preprocessing(X)\n",
    "pred = model.predict(Xnew)"
   ]
  },
  {
   "cell_type": "code",
   "execution_count": 41,
   "id": "7f564281",
   "metadata": {},
   "outputs": [],
   "source": [
    "B['Loan_Status_Pred']=pred\n",
    "\n"
   ]
  },
  {
   "cell_type": "code",
   "execution_count": 42,
   "id": "0cf8b06b",
   "metadata": {},
   "outputs": [
    {
     "data": {
      "text/html": [
       "<div>\n",
       "<style scoped>\n",
       "    .dataframe tbody tr th:only-of-type {\n",
       "        vertical-align: middle;\n",
       "    }\n",
       "\n",
       "    .dataframe tbody tr th {\n",
       "        vertical-align: top;\n",
       "    }\n",
       "\n",
       "    .dataframe thead th {\n",
       "        text-align: right;\n",
       "    }\n",
       "</style>\n",
       "<table border=\"1\" class=\"dataframe\">\n",
       "  <thead>\n",
       "    <tr style=\"text-align: right;\">\n",
       "      <th></th>\n",
       "      <th>Loan_ID</th>\n",
       "      <th>Gender</th>\n",
       "      <th>Married</th>\n",
       "      <th>Dependents</th>\n",
       "      <th>Education</th>\n",
       "      <th>Self_Employed</th>\n",
       "      <th>ApplicantIncome</th>\n",
       "      <th>CoapplicantIncome</th>\n",
       "      <th>LoanAmount</th>\n",
       "      <th>Loan_Amount_Term</th>\n",
       "      <th>Credit_History</th>\n",
       "      <th>Property_Area</th>\n",
       "      <th>Loan_Status_Pred</th>\n",
       "    </tr>\n",
       "  </thead>\n",
       "  <tbody>\n",
       "    <tr>\n",
       "      <th>0</th>\n",
       "      <td>LP001015</td>\n",
       "      <td>Male</td>\n",
       "      <td>Yes</td>\n",
       "      <td>0</td>\n",
       "      <td>Graduate</td>\n",
       "      <td>No</td>\n",
       "      <td>5720</td>\n",
       "      <td>0</td>\n",
       "      <td>110.0</td>\n",
       "      <td>360.0</td>\n",
       "      <td>1.0</td>\n",
       "      <td>Urban</td>\n",
       "      <td>Y</td>\n",
       "    </tr>\n",
       "    <tr>\n",
       "      <th>1</th>\n",
       "      <td>LP001022</td>\n",
       "      <td>Male</td>\n",
       "      <td>Yes</td>\n",
       "      <td>1</td>\n",
       "      <td>Graduate</td>\n",
       "      <td>No</td>\n",
       "      <td>3076</td>\n",
       "      <td>1500</td>\n",
       "      <td>126.0</td>\n",
       "      <td>360.0</td>\n",
       "      <td>1.0</td>\n",
       "      <td>Urban</td>\n",
       "      <td>Y</td>\n",
       "    </tr>\n",
       "    <tr>\n",
       "      <th>2</th>\n",
       "      <td>LP001031</td>\n",
       "      <td>Male</td>\n",
       "      <td>Yes</td>\n",
       "      <td>2</td>\n",
       "      <td>Graduate</td>\n",
       "      <td>No</td>\n",
       "      <td>5000</td>\n",
       "      <td>1800</td>\n",
       "      <td>208.0</td>\n",
       "      <td>360.0</td>\n",
       "      <td>1.0</td>\n",
       "      <td>Urban</td>\n",
       "      <td>Y</td>\n",
       "    </tr>\n",
       "  </tbody>\n",
       "</table>\n",
       "</div>"
      ],
      "text/plain": [
       "    Loan_ID Gender Married Dependents Education Self_Employed  \\\n",
       "0  LP001015   Male     Yes          0  Graduate            No   \n",
       "1  LP001022   Male     Yes          1  Graduate            No   \n",
       "2  LP001031   Male     Yes          2  Graduate            No   \n",
       "\n",
       "   ApplicantIncome  CoapplicantIncome  LoanAmount  Loan_Amount_Term  \\\n",
       "0             5720                  0       110.0             360.0   \n",
       "1             3076               1500       126.0             360.0   \n",
       "2             5000               1800       208.0             360.0   \n",
       "\n",
       "   Credit_History Property_Area Loan_Status_Pred  \n",
       "0             1.0         Urban                Y  \n",
       "1             1.0         Urban                Y  \n",
       "2             1.0         Urban                Y  "
      ]
     },
     "execution_count": 42,
     "metadata": {},
     "output_type": "execute_result"
    }
   ],
   "source": [
    "B.head(3)\n"
   ]
  },
  {
   "cell_type": "code",
   "execution_count": 43,
   "id": "9e128c9d",
   "metadata": {},
   "outputs": [
    {
     "data": {
      "text/html": [
       "<div>\n",
       "<style scoped>\n",
       "    .dataframe tbody tr th:only-of-type {\n",
       "        vertical-align: middle;\n",
       "    }\n",
       "\n",
       "    .dataframe tbody tr th {\n",
       "        vertical-align: top;\n",
       "    }\n",
       "\n",
       "    .dataframe thead th {\n",
       "        text-align: right;\n",
       "    }\n",
       "</style>\n",
       "<table border=\"1\" class=\"dataframe\">\n",
       "  <thead>\n",
       "    <tr style=\"text-align: right;\">\n",
       "      <th></th>\n",
       "      <th>0</th>\n",
       "      <th>1</th>\n",
       "    </tr>\n",
       "  </thead>\n",
       "  <tbody>\n",
       "    <tr>\n",
       "      <th>0</th>\n",
       "      <td>ApplicantIncome</td>\n",
       "      <td>0.0</td>\n",
       "    </tr>\n",
       "    <tr>\n",
       "      <th>1</th>\n",
       "      <td>CoapplicantIncome</td>\n",
       "      <td>0.042743</td>\n",
       "    </tr>\n",
       "    <tr>\n",
       "      <th>2</th>\n",
       "      <td>LoanAmount</td>\n",
       "      <td>0.020849</td>\n",
       "    </tr>\n",
       "    <tr>\n",
       "      <th>3</th>\n",
       "      <td>Loan_Amount_Term</td>\n",
       "      <td>0.0</td>\n",
       "    </tr>\n",
       "    <tr>\n",
       "      <th>4</th>\n",
       "      <td>Credit_History</td>\n",
       "      <td>0.936407</td>\n",
       "    </tr>\n",
       "    <tr>\n",
       "      <th>5</th>\n",
       "      <td>Gender_Female</td>\n",
       "      <td>0.0</td>\n",
       "    </tr>\n",
       "    <tr>\n",
       "      <th>6</th>\n",
       "      <td>Gender_Male</td>\n",
       "      <td>0.0</td>\n",
       "    </tr>\n",
       "    <tr>\n",
       "      <th>7</th>\n",
       "      <td>Married_No</td>\n",
       "      <td>0.0</td>\n",
       "    </tr>\n",
       "    <tr>\n",
       "      <th>8</th>\n",
       "      <td>Married_Yes</td>\n",
       "      <td>0.0</td>\n",
       "    </tr>\n",
       "    <tr>\n",
       "      <th>9</th>\n",
       "      <td>Dependents_0</td>\n",
       "      <td>0.0</td>\n",
       "    </tr>\n",
       "    <tr>\n",
       "      <th>10</th>\n",
       "      <td>Dependents_1</td>\n",
       "      <td>0.0</td>\n",
       "    </tr>\n",
       "    <tr>\n",
       "      <th>11</th>\n",
       "      <td>Dependents_2</td>\n",
       "      <td>0.0</td>\n",
       "    </tr>\n",
       "    <tr>\n",
       "      <th>12</th>\n",
       "      <td>Dependents_3+</td>\n",
       "      <td>0.0</td>\n",
       "    </tr>\n",
       "    <tr>\n",
       "      <th>13</th>\n",
       "      <td>Education_Graduate</td>\n",
       "      <td>0.0</td>\n",
       "    </tr>\n",
       "    <tr>\n",
       "      <th>14</th>\n",
       "      <td>Education_Not Graduate</td>\n",
       "      <td>0.0</td>\n",
       "    </tr>\n",
       "    <tr>\n",
       "      <th>15</th>\n",
       "      <td>Self_Employed_No</td>\n",
       "      <td>0.0</td>\n",
       "    </tr>\n",
       "    <tr>\n",
       "      <th>16</th>\n",
       "      <td>Self_Employed_Yes</td>\n",
       "      <td>0.0</td>\n",
       "    </tr>\n",
       "    <tr>\n",
       "      <th>17</th>\n",
       "      <td>Property_Area_Rural</td>\n",
       "      <td>0.0</td>\n",
       "    </tr>\n",
       "    <tr>\n",
       "      <th>18</th>\n",
       "      <td>Property_Area_Semiurban</td>\n",
       "      <td>0.0</td>\n",
       "    </tr>\n",
       "    <tr>\n",
       "      <th>19</th>\n",
       "      <td>Property_Area_Urban</td>\n",
       "      <td>0.0</td>\n",
       "    </tr>\n",
       "  </tbody>\n",
       "</table>\n",
       "</div>"
      ],
      "text/plain": [
       "                          0         1\n",
       "0           ApplicantIncome       0.0\n",
       "1         CoapplicantIncome  0.042743\n",
       "2                LoanAmount  0.020849\n",
       "3          Loan_Amount_Term       0.0\n",
       "4            Credit_History  0.936407\n",
       "5             Gender_Female       0.0\n",
       "6               Gender_Male       0.0\n",
       "7                Married_No       0.0\n",
       "8               Married_Yes       0.0\n",
       "9              Dependents_0       0.0\n",
       "10             Dependents_1       0.0\n",
       "11             Dependents_2       0.0\n",
       "12            Dependents_3+       0.0\n",
       "13       Education_Graduate       0.0\n",
       "14   Education_Not Graduate       0.0\n",
       "15         Self_Employed_No       0.0\n",
       "16        Self_Employed_Yes       0.0\n",
       "17      Property_Area_Rural       0.0\n",
       "18  Property_Area_Semiurban       0.0\n",
       "19      Property_Area_Urban       0.0"
      ]
     },
     "execution_count": 43,
     "metadata": {},
     "output_type": "execute_result"
    }
   ],
   "source": [
    "pd.DataFrame([Xnew.columns,dtc.feature_importances_]).T\n"
   ]
  },
  {
   "cell_type": "markdown",
   "id": "c2cd7b6e",
   "metadata": {},
   "source": [
    "# Identify customer segments\n"
   ]
  },
  {
   "cell_type": "code",
   "execution_count": 44,
   "id": "3580500e",
   "metadata": {},
   "outputs": [],
   "source": [
    "X = A[[\"Credit_History\",\"LoanAmount\",\"CoapplicantIncome\"]]\n"
   ]
  },
  {
   "cell_type": "code",
   "execution_count": 45,
   "id": "0104e928",
   "metadata": {},
   "outputs": [],
   "source": [
    "from sklearn.preprocessing import StandardScaler\n",
    "ss = StandardScaler()\n",
    "Xnew = pd.DataFrame(ss.fit_transform(X),columns=[\"Credit_History\",\"LoanAmount\",\"CoapplicantIncome\"])"
   ]
  },
  {
   "cell_type": "code",
   "execution_count": 46,
   "id": "973d7fe7",
   "metadata": {},
   "outputs": [],
   "source": [
    "from sklearn.cluster import KMeans\n",
    "km = KMeans(n_clusters=2)\n",
    "model = km.fit(Xnew)"
   ]
  },
  {
   "cell_type": "code",
   "execution_count": 47,
   "id": "6bbab1c7",
   "metadata": {},
   "outputs": [],
   "source": [
    "X['Cluster'] = model.labels_\n"
   ]
  },
  {
   "cell_type": "code",
   "execution_count": 48,
   "id": "d9b2c4ea",
   "metadata": {},
   "outputs": [],
   "source": [
    "q = []\n",
    "for i in X.Credit_History:\n",
    "    if(i < 0.5):\n",
    "        q.append(0)\n",
    "    else:\n",
    "        q.append(1)"
   ]
  },
  {
   "cell_type": "code",
   "execution_count": 49,
   "id": "3e7b32a2",
   "metadata": {},
   "outputs": [],
   "source": [
    "X.Credit_History = q\n"
   ]
  },
  {
   "cell_type": "code",
   "execution_count": 50,
   "id": "27edf6a4",
   "metadata": {},
   "outputs": [
    {
     "data": {
      "text/plain": [
       "<matplotlib.collections.PathCollection at 0x227a6ee12b0>"
      ]
     },
     "execution_count": 50,
     "metadata": {},
     "output_type": "execute_result"
    },
    {
     "data": {
      "image/png": "[encoded data removed]",
      "text/plain": [
       "<Figure size 432x288 with 1 Axes>"
      ]
     },
     "metadata": {
      "needs_background": "light"
     },
     "output_type": "display_data"
    }
   ],
   "source": [
    "import matplotlib.pyplot as plt\n",
    "plt.scatter(X.LoanAmount,X.CoapplicantIncome,c=q)"
   ]
  },
  {
   "cell_type": "code",
   "execution_count": 51,
   "id": "2c2db447",
   "metadata": {},
   "outputs": [],
   "source": [
    "from sklearn.preprocessing import LabelEncoder\n",
    "le = LabelEncoder()\n",
    "w = le.fit_transform(A['Loan_Status'])\n"
   ]
  },
  {
   "cell_type": "code",
   "execution_count": 52,
   "id": "b316a6fe",
   "metadata": {},
   "outputs": [
    {
     "data": {
      "text/plain": [
       "<matplotlib.collections.PathCollection at 0x227a6fc8400>"
      ]
     },
     "execution_count": 52,
     "metadata": {},
     "output_type": "execute_result"
    },
    {
     "data": {
      "image/png": "[encoded data removed]",
      "text/plain": [
       "<Figure size 432x288 with 1 Axes>"
      ]
     },
     "metadata": {
      "needs_background": "light"
     },
     "output_type": "display_data"
    }
   ],
   "source": [
    "plt.scatter(X.LoanAmount,X.CoapplicantIncome,c=w)\n"
   ]
  },
  {
   "cell_type": "code",
   "execution_count": 53,
   "id": "63e4068e",
   "metadata": {},
   "outputs": [
    {
     "data": {
      "text/plain": [
       "<matplotlib.collections.PathCollection at 0x227a7018f10>"
      ]
     },
     "execution_count": 53,
     "metadata": {},
     "output_type": "execute_result"
    },
    {
     "data": {
      "image/png": "[encoded data removed]",
      "text/plain": [
       "<Figure size 432x288 with 1 Axes>"
      ]
     },
     "metadata": {
      "needs_background": "light"
     },
     "output_type": "display_data"
    }
   ],
   "source": [
    "plt.scatter(X.LoanAmount,X.CoapplicantIncome,c=X.Cluster)\n"
   ]
  },
  {
   "cell_type": "code",
   "execution_count": 54,
   "id": "647899a7",
   "metadata": {},
   "outputs": [
    {
     "data": {
      "text/plain": [
       "<matplotlib.collections.PathCollection at 0x227a70f6220>"
      ]
     },
     "execution_count": 54,
     "metadata": {},
     "output_type": "execute_result"
    },
    {
     "data": {
      "image/png": "[encoded data removed]",
      "text/plain": [
       "<Figure size 1080x288 with 3 Axes>"
      ]
     },
     "metadata": {
      "needs_background": "light"
     },
     "output_type": "display_data"
    }
   ],
   "source": [
    "plt.figure(figsize=(15,4))\n",
    "plt.subplot(1,3,1)\n",
    "plt.scatter(X.LoanAmount,X.CoapplicantIncome,c=q)\n",
    "plt.subplot(1,3,2)\n",
    "plt.scatter(X.LoanAmount,X.CoapplicantIncome,c=w)\n",
    "plt.subplot(1,3,3)\n",
    "plt.scatter(X.LoanAmount,X.CoapplicantIncome,c=X.Cluster)"
   ]
  },
  {
   "cell_type": "markdown",
   "id": "ffa4eea0",
   "metadata": {},
   "source": [
    "# 3.)If customer is not eligible for the input required amount and duration:\n"
   ]
  },
  {
   "cell_type": "markdown",
   "id": "f3fdac64",
   "metadata": {},
   "source": [
    "a.)what can be amount for the given duration.(Regression)\n",
    "\n"
   ]
  },
  {
   "cell_type": "markdown",
   "id": "ce0f8f57",
   "metadata": {},
   "source": [
    "# Prepare Training Data\n"
   ]
  },
  {
   "cell_type": "code",
   "execution_count": 56,
   "id": "eefa2f76",
   "metadata": {},
   "outputs": [],
   "source": [
    "P1 = A[A.Loan_Status == \"Y\"]\n"
   ]
  },
  {
   "cell_type": "code",
   "execution_count": 57,
   "id": "ef92cb64",
   "metadata": {},
   "outputs": [],
   "source": [
    "P2 = B[B.Loan_Status_Pred == \"Y\"]\n"
   ]
  },
  {
   "cell_type": "code",
   "execution_count": 58,
   "id": "bacddaca",
   "metadata": {},
   "outputs": [],
   "source": [
    "P2 = P2.rename({\"Loan_Status_Pred\":\"Loan_Status\"},axis=1)\n"
   ]
  },
  {
   "cell_type": "code",
   "execution_count": 59,
   "id": "465a0f1f",
   "metadata": {},
   "outputs": [],
   "source": [
    "trd = pd.concat([P1,P2])\n"
   ]
  },
  {
   "cell_type": "markdown",
   "id": "6aa126d7",
   "metadata": {},
   "source": [
    "# Missing Data\n"
   ]
  },
  {
   "cell_type": "code",
   "execution_count": 60,
   "id": "503d359e",
   "metadata": {},
   "outputs": [],
   "source": [
    "replacer(trd)\n"
   ]
  },
  {
   "cell_type": "code",
   "execution_count": 61,
   "id": "51f5f9d5",
   "metadata": {},
   "outputs": [],
   "source": [
    "#trd.isna().sum()\n"
   ]
  },
  {
   "cell_type": "code",
   "execution_count": 62,
   "id": "52169ed8",
   "metadata": {},
   "outputs": [],
   "source": [
    "cat = []\n",
    "con = []\n",
    "for i in trd.columns:\n",
    "    if(trd[i].dtypes == \"object\"):\n",
    "        cat.append(i)\n",
    "    else:\n",
    "        con.append(i)"
   ]
  },
  {
   "cell_type": "code",
   "execution_count": 63,
   "id": "77c33630",
   "metadata": {},
   "outputs": [
    {
     "data": {
      "text/plain": [
       "['ApplicantIncome',\n",
       " 'CoapplicantIncome',\n",
       " 'LoanAmount',\n",
       " 'Loan_Amount_Term',\n",
       " 'Credit_History']"
      ]
     },
     "execution_count": 63,
     "metadata": {},
     "output_type": "execute_result"
    }
   ],
   "source": [
    "con"
   ]
  },
  {
   "cell_type": "code",
   "execution_count": 64,
   "id": "ffa6c895",
   "metadata": {},
   "outputs": [],
   "source": [
    "cat.remove(\"Loan_ID\")\n",
    "con.remove(\"LoanAmount\")\n",
    "cat.remove(\"Loan_Status\")"
   ]
  },
  {
   "cell_type": "markdown",
   "id": "0b280533",
   "metadata": {},
   "source": [
    "# Define Y and X"
   ]
  },
  {
   "cell_type": "code",
   "execution_count": 65,
   "id": "9fdea231",
   "metadata": {},
   "outputs": [],
   "source": [
    "Y = trd[[\"LoanAmount\"]]\n",
    "X = trd.drop(labels=[\"LoanAmount\",\"Loan_ID\",\"Loan_Status\"],axis=1)\n",
    "from sklearn.preprocessing import StandardScaler\n",
    "ss1 = StandardScaler()\n",
    "X1 = pd.DataFrame(ss1.fit_transform(X[con]),columns=con)\n",
    "X2 = pd.get_dummies(X[cat])\n",
    "X2.index = range(0,725)\n",
    "Xnew = X1.join(X2)"
   ]
  },
  {
   "cell_type": "code",
   "execution_count": 66,
   "id": "012250b7",
   "metadata": {},
   "outputs": [],
   "source": [
    "from sklearn.model_selection import train_test_split\n",
    "xtrain,xtest,ytrain,ytest=train_test_split(Xnew,Y,test_size=0.2,random_state=21)"
   ]
  },
  {
   "cell_type": "code",
   "execution_count": 67,
   "id": "be6a43c4",
   "metadata": {},
   "outputs": [
    {
     "data": {
      "text/html": [
       "<div>\n",
       "<style scoped>\n",
       "    .dataframe tbody tr th:only-of-type {\n",
       "        vertical-align: middle;\n",
       "    }\n",
       "\n",
       "    .dataframe tbody tr th {\n",
       "        vertical-align: top;\n",
       "    }\n",
       "\n",
       "    .dataframe thead th {\n",
       "        text-align: right;\n",
       "    }\n",
       "</style>\n",
       "<table border=\"1\" class=\"dataframe\">\n",
       "  <thead>\n",
       "    <tr style=\"text-align: right;\">\n",
       "      <th></th>\n",
       "      <th>LoanAmount</th>\n",
       "    </tr>\n",
       "  </thead>\n",
       "  <tbody>\n",
       "    <tr>\n",
       "      <th>ApplicantIncome</th>\n",
       "      <td>0.579186</td>\n",
       "    </tr>\n",
       "    <tr>\n",
       "      <th>CoapplicantIncome</th>\n",
       "      <td>0.142011</td>\n",
       "    </tr>\n",
       "    <tr>\n",
       "      <th>LoanAmount</th>\n",
       "      <td>1.000000</td>\n",
       "    </tr>\n",
       "    <tr>\n",
       "      <th>Loan_Amount_Term</th>\n",
       "      <td>0.059974</td>\n",
       "    </tr>\n",
       "    <tr>\n",
       "      <th>Credit_History</th>\n",
       "      <td>-0.095110</td>\n",
       "    </tr>\n",
       "  </tbody>\n",
       "</table>\n",
       "</div>"
      ],
      "text/plain": [
       "                   LoanAmount\n",
       "ApplicantIncome      0.579186\n",
       "CoapplicantIncome    0.142011\n",
       "LoanAmount           1.000000\n",
       "Loan_Amount_Term     0.059974\n",
       "Credit_History      -0.095110"
      ]
     },
     "execution_count": 67,
     "metadata": {},
     "output_type": "execute_result"
    }
   ],
   "source": [
    "trd.corr()[[\"LoanAmount\"]]\n"
   ]
  },
  {
   "cell_type": "code",
   "execution_count": 69,
   "id": "18c41904",
   "metadata": {},
   "outputs": [
    {
     "name": "stdout",
     "output_type": "stream",
     "text": [
      "------------------------\n",
      "Loan AMt vs Gender\n",
      "0.003\n",
      "------------------------\n",
      "Loan AMt vs Married\n",
      "0.0\n",
      "------------------------\n",
      "Loan AMt vs Dependents\n",
      "0.0\n",
      "------------------------\n",
      "Loan AMt vs Education\n",
      "0.0\n",
      "------------------------\n",
      "Loan AMt vs Self_Employed\n",
      "0.0\n",
      "------------------------\n",
      "Loan AMt vs Property_Area\n",
      "0.808\n"
     ]
    }
   ],
   "source": [
    "for i in X.columns:\n",
    "    if(X[i].dtypes == \"object\"):\n",
    "        print(\"------------------------\")\n",
    "        print(\"Loan AMt vs\",i)\n",
    "        print(ANOVA(trd,i,\"LoanAmount\"))"
   ]
  },
  {
   "cell_type": "markdown",
   "id": "b4ff5c4d",
   "metadata": {},
   "source": [
    "# Create a ML model\n"
   ]
  },
  {
   "cell_type": "code",
   "execution_count": 70,
   "id": "3ecbb306",
   "metadata": {},
   "outputs": [],
   "source": [
    "from sklearn.linear_model import LinearRegression\n",
    "lm = LinearRegression()\n",
    "model = lm.fit(xtrain,ytrain)"
   ]
  },
  {
   "cell_type": "code",
   "execution_count": 71,
   "id": "f37f1843",
   "metadata": {},
   "outputs": [],
   "source": [
    "from PM8 import find_overfit_con\n"
   ]
  },
  {
   "cell_type": "code",
   "execution_count": 72,
   "id": "9143fea1",
   "metadata": {},
   "outputs": [
    {
     "name": "stdout",
     "output_type": "stream",
     "text": [
      "training error:  36.13269294032183\n",
      "testing error:  38.450512581547066\n"
     ]
    }
   ],
   "source": [
    "find_overfit_con(lm,xtrain, xtest, ytrain, ytest)\n"
   ]
  },
  {
   "cell_type": "markdown",
   "id": "4de4c51c",
   "metadata": {},
   "source": [
    "# Prepare Data for making predictions\n"
   ]
  },
  {
   "cell_type": "code",
   "execution_count": 73,
   "id": "f1641e7a",
   "metadata": {},
   "outputs": [],
   "source": [
    "test = B[B.Loan_Status_Pred == \"N\"]\n"
   ]
  },
  {
   "cell_type": "code",
   "execution_count": 74,
   "id": "ddf01685",
   "metadata": {},
   "outputs": [],
   "source": [
    "test = test.drop(labels=[\"Loan_Status_Pred\",\"Loan_ID\",\"LoanAmount\"],axis=1)\n"
   ]
  },
  {
   "cell_type": "code",
   "execution_count": 75,
   "id": "01e2654e",
   "metadata": {},
   "outputs": [
    {
     "data": {
      "text/plain": [
       "Gender               0\n",
       "Married              0\n",
       "Dependents           0\n",
       "Education            0\n",
       "Self_Employed        0\n",
       "ApplicantIncome      0\n",
       "CoapplicantIncome    0\n",
       "Loan_Amount_Term     0\n",
       "Credit_History       0\n",
       "Property_Area        0\n",
       "dtype: int64"
      ]
     },
     "execution_count": 75,
     "metadata": {},
     "output_type": "execute_result"
    }
   ],
   "source": [
    "replacer(test)\n",
    "test.isna().sum()"
   ]
  },
  {
   "cell_type": "code",
   "execution_count": 76,
   "id": "bceb7cfb",
   "metadata": {},
   "outputs": [
    {
     "data": {
      "text/plain": [
       "(725, 19)"
      ]
     },
     "execution_count": 76,
     "metadata": {},
     "output_type": "execute_result"
    }
   ],
   "source": [
    "Xnew.shape\n"
   ]
  },
  {
   "cell_type": "code",
   "execution_count": 77,
   "id": "581e48c3",
   "metadata": {},
   "outputs": [],
   "source": [
    "ss1 = StandardScaler()\n",
    "X1 = pd.DataFrame(ss1.fit_transform(test[con]),columns=con)\n",
    "X2 = pd.get_dummies(test[cat])\n",
    "X2.index = range(0,64)\n",
    "Xnew = X1.join(X2)"
   ]
  },
  {
   "cell_type": "code",
   "execution_count": 78,
   "id": "c8722782",
   "metadata": {},
   "outputs": [],
   "source": [
    "pred = model.predict(Xnew)\n"
   ]
  },
  {
   "cell_type": "code",
   "execution_count": 79,
   "id": "b8c1d665",
   "metadata": {},
   "outputs": [
    {
     "data": {
      "text/plain": [
       "array([[130. ],\n",
       "       [286. ],\n",
       "       [136. ],\n",
       "       [106.5],\n",
       "       [ 95. ],\n",
       "       [147. ],\n",
       "       [ 97. ],\n",
       "       [135.5],\n",
       "       [128.5],\n",
       "       [127. ],\n",
       "       [138.5],\n",
       "       [149.5],\n",
       "       [122.5],\n",
       "       [150.5],\n",
       "       [161. ],\n",
       "       [129.5],\n",
       "       [ 82. ],\n",
       "       [106.5],\n",
       "       [ 93.5],\n",
       "       [103.5],\n",
       "       [115.5],\n",
       "       [264. ],\n",
       "       [158. ],\n",
       "       [130. ],\n",
       "       [172. ],\n",
       "       [199.5],\n",
       "       [106. ],\n",
       "       [103.5],\n",
       "       [ 78. ],\n",
       "       [ 72. ],\n",
       "       [120.5],\n",
       "       [ 86.5],\n",
       "       [101. ],\n",
       "       [138.5],\n",
       "       [110. ],\n",
       "       [156. ],\n",
       "       [122. ],\n",
       "       [149. ],\n",
       "       [174. ],\n",
       "       [143. ],\n",
       "       [344.5],\n",
       "       [ 96. ],\n",
       "       [116. ],\n",
       "       [207. ],\n",
       "       [141.5],\n",
       "       [116.5],\n",
       "       [112.5],\n",
       "       [141.5],\n",
       "       [ 98.5],\n",
       "       [146.5],\n",
       "       [179.5],\n",
       "       [178.5],\n",
       "       [118. ],\n",
       "       [125.5],\n",
       "       [280.5],\n",
       "       [116. ],\n",
       "       [176. ],\n",
       "       [119. ],\n",
       "       [ 90.5],\n",
       "       [ 65. ],\n",
       "       [137.5],\n",
       "       [131.5],\n",
       "       [141.5],\n",
       "       [128. ]])"
      ]
     },
     "execution_count": 79,
     "metadata": {},
     "output_type": "execute_result"
    }
   ],
   "source": [
    "pred\n"
   ]
  },
  {
   "cell_type": "code",
   "execution_count": 80,
   "id": "adcfb5d5",
   "metadata": {},
   "outputs": [
    {
     "data": {
      "text/html": [
       "<div>\n",
       "<style scoped>\n",
       "    .dataframe tbody tr th:only-of-type {\n",
       "        vertical-align: middle;\n",
       "    }\n",
       "\n",
       "    .dataframe tbody tr th {\n",
       "        vertical-align: top;\n",
       "    }\n",
       "\n",
       "    .dataframe thead th {\n",
       "        text-align: right;\n",
       "    }\n",
       "</style>\n",
       "<table border=\"1\" class=\"dataframe\">\n",
       "  <thead>\n",
       "    <tr style=\"text-align: right;\">\n",
       "      <th></th>\n",
       "      <th>Loan_ID</th>\n",
       "      <th>Gender</th>\n",
       "      <th>Married</th>\n",
       "      <th>Dependents</th>\n",
       "      <th>Education</th>\n",
       "      <th>Self_Employed</th>\n",
       "      <th>ApplicantIncome</th>\n",
       "      <th>CoapplicantIncome</th>\n",
       "      <th>LoanAmount</th>\n",
       "      <th>Loan_Amount_Term</th>\n",
       "      <th>Credit_History</th>\n",
       "      <th>Property_Area</th>\n",
       "      <th>Loan_Status_Pred</th>\n",
       "    </tr>\n",
       "  </thead>\n",
       "  <tbody>\n",
       "    <tr>\n",
       "      <th>0</th>\n",
       "      <td>LP001015</td>\n",
       "      <td>Male</td>\n",
       "      <td>Yes</td>\n",
       "      <td>0</td>\n",
       "      <td>Graduate</td>\n",
       "      <td>No</td>\n",
       "      <td>5720</td>\n",
       "      <td>0</td>\n",
       "      <td>110.0</td>\n",
       "      <td>360.0</td>\n",
       "      <td>1.0</td>\n",
       "      <td>Urban</td>\n",
       "      <td>Y</td>\n",
       "    </tr>\n",
       "    <tr>\n",
       "      <th>1</th>\n",
       "      <td>LP001022</td>\n",
       "      <td>Male</td>\n",
       "      <td>Yes</td>\n",
       "      <td>1</td>\n",
       "      <td>Graduate</td>\n",
       "      <td>No</td>\n",
       "      <td>3076</td>\n",
       "      <td>1500</td>\n",
       "      <td>126.0</td>\n",
       "      <td>360.0</td>\n",
       "      <td>1.0</td>\n",
       "      <td>Urban</td>\n",
       "      <td>Y</td>\n",
       "    </tr>\n",
       "    <tr>\n",
       "      <th>2</th>\n",
       "      <td>LP001031</td>\n",
       "      <td>Male</td>\n",
       "      <td>Yes</td>\n",
       "      <td>2</td>\n",
       "      <td>Graduate</td>\n",
       "      <td>No</td>\n",
       "      <td>5000</td>\n",
       "      <td>1800</td>\n",
       "      <td>208.0</td>\n",
       "      <td>360.0</td>\n",
       "      <td>1.0</td>\n",
       "      <td>Urban</td>\n",
       "      <td>Y</td>\n",
       "    </tr>\n",
       "    <tr>\n",
       "      <th>3</th>\n",
       "      <td>LP001035</td>\n",
       "      <td>Male</td>\n",
       "      <td>Yes</td>\n",
       "      <td>2</td>\n",
       "      <td>Graduate</td>\n",
       "      <td>No</td>\n",
       "      <td>2340</td>\n",
       "      <td>2546</td>\n",
       "      <td>100.0</td>\n",
       "      <td>360.0</td>\n",
       "      <td>NaN</td>\n",
       "      <td>Urban</td>\n",
       "      <td>Y</td>\n",
       "    </tr>\n",
       "    <tr>\n",
       "      <th>4</th>\n",
       "      <td>LP001051</td>\n",
       "      <td>Male</td>\n",
       "      <td>No</td>\n",
       "      <td>0</td>\n",
       "      <td>Not Graduate</td>\n",
       "      <td>No</td>\n",
       "      <td>3276</td>\n",
       "      <td>0</td>\n",
       "      <td>78.0</td>\n",
       "      <td>360.0</td>\n",
       "      <td>1.0</td>\n",
       "      <td>Urban</td>\n",
       "      <td>Y</td>\n",
       "    </tr>\n",
       "    <tr>\n",
       "      <th>...</th>\n",
       "      <td>...</td>\n",
       "      <td>...</td>\n",
       "      <td>...</td>\n",
       "      <td>...</td>\n",
       "      <td>...</td>\n",
       "      <td>...</td>\n",
       "      <td>...</td>\n",
       "      <td>...</td>\n",
       "      <td>...</td>\n",
       "      <td>...</td>\n",
       "      <td>...</td>\n",
       "      <td>...</td>\n",
       "      <td>...</td>\n",
       "    </tr>\n",
       "    <tr>\n",
       "      <th>362</th>\n",
       "      <td>LP002971</td>\n",
       "      <td>Male</td>\n",
       "      <td>Yes</td>\n",
       "      <td>3+</td>\n",
       "      <td>Not Graduate</td>\n",
       "      <td>Yes</td>\n",
       "      <td>4009</td>\n",
       "      <td>1777</td>\n",
       "      <td>113.0</td>\n",
       "      <td>360.0</td>\n",
       "      <td>1.0</td>\n",
       "      <td>Urban</td>\n",
       "      <td>Y</td>\n",
       "    </tr>\n",
       "    <tr>\n",
       "      <th>363</th>\n",
       "      <td>LP002975</td>\n",
       "      <td>Male</td>\n",
       "      <td>Yes</td>\n",
       "      <td>0</td>\n",
       "      <td>Graduate</td>\n",
       "      <td>No</td>\n",
       "      <td>4158</td>\n",
       "      <td>709</td>\n",
       "      <td>115.0</td>\n",
       "      <td>360.0</td>\n",
       "      <td>1.0</td>\n",
       "      <td>Urban</td>\n",
       "      <td>Y</td>\n",
       "    </tr>\n",
       "    <tr>\n",
       "      <th>364</th>\n",
       "      <td>LP002980</td>\n",
       "      <td>Male</td>\n",
       "      <td>No</td>\n",
       "      <td>0</td>\n",
       "      <td>Graduate</td>\n",
       "      <td>No</td>\n",
       "      <td>3250</td>\n",
       "      <td>1993</td>\n",
       "      <td>126.0</td>\n",
       "      <td>360.0</td>\n",
       "      <td>NaN</td>\n",
       "      <td>Semiurban</td>\n",
       "      <td>Y</td>\n",
       "    </tr>\n",
       "    <tr>\n",
       "      <th>365</th>\n",
       "      <td>LP002986</td>\n",
       "      <td>Male</td>\n",
       "      <td>Yes</td>\n",
       "      <td>0</td>\n",
       "      <td>Graduate</td>\n",
       "      <td>No</td>\n",
       "      <td>5000</td>\n",
       "      <td>2393</td>\n",
       "      <td>158.0</td>\n",
       "      <td>360.0</td>\n",
       "      <td>1.0</td>\n",
       "      <td>Rural</td>\n",
       "      <td>Y</td>\n",
       "    </tr>\n",
       "    <tr>\n",
       "      <th>366</th>\n",
       "      <td>LP002989</td>\n",
       "      <td>Male</td>\n",
       "      <td>No</td>\n",
       "      <td>0</td>\n",
       "      <td>Graduate</td>\n",
       "      <td>Yes</td>\n",
       "      <td>9200</td>\n",
       "      <td>0</td>\n",
       "      <td>98.0</td>\n",
       "      <td>180.0</td>\n",
       "      <td>1.0</td>\n",
       "      <td>Rural</td>\n",
       "      <td>Y</td>\n",
       "    </tr>\n",
       "  </tbody>\n",
       "</table>\n",
       "<p>367 rows × 13 columns</p>\n",
       "</div>"
      ],
      "text/plain": [
       "      Loan_ID Gender Married Dependents     Education Self_Employed  \\\n",
       "0    LP001015   Male     Yes          0      Graduate            No   \n",
       "1    LP001022   Male     Yes          1      Graduate            No   \n",
       "2    LP001031   Male     Yes          2      Graduate            No   \n",
       "3    LP001035   Male     Yes          2      Graduate            No   \n",
       "4    LP001051   Male      No          0  Not Graduate            No   \n",
       "..        ...    ...     ...        ...           ...           ...   \n",
       "362  LP002971   Male     Yes         3+  Not Graduate           Yes   \n",
       "363  LP002975   Male     Yes          0      Graduate            No   \n",
       "364  LP002980   Male      No          0      Graduate            No   \n",
       "365  LP002986   Male     Yes          0      Graduate            No   \n",
       "366  LP002989   Male      No          0      Graduate           Yes   \n",
       "\n",
       "     ApplicantIncome  CoapplicantIncome  LoanAmount  Loan_Amount_Term  \\\n",
       "0               5720                  0       110.0             360.0   \n",
       "1               3076               1500       126.0             360.0   \n",
       "2               5000               1800       208.0             360.0   \n",
       "3               2340               2546       100.0             360.0   \n",
       "4               3276                  0        78.0             360.0   \n",
       "..               ...                ...         ...               ...   \n",
       "362             4009               1777       113.0             360.0   \n",
       "363             4158                709       115.0             360.0   \n",
       "364             3250               1993       126.0             360.0   \n",
       "365             5000               2393       158.0             360.0   \n",
       "366             9200                  0        98.0             180.0   \n",
       "\n",
       "     Credit_History Property_Area Loan_Status_Pred  \n",
       "0               1.0         Urban                Y  \n",
       "1               1.0         Urban                Y  \n",
       "2               1.0         Urban                Y  \n",
       "3               NaN         Urban                Y  \n",
       "4               1.0         Urban                Y  \n",
       "..              ...           ...              ...  \n",
       "362             1.0         Urban                Y  \n",
       "363             1.0         Urban                Y  \n",
       "364             NaN     Semiurban                Y  \n",
       "365             1.0         Rural                Y  \n",
       "366             1.0         Rural                Y  \n",
       "\n",
       "[367 rows x 13 columns]"
      ]
     },
     "execution_count": 80,
     "metadata": {},
     "output_type": "execute_result"
    }
   ],
   "source": [
    "B"
   ]
  },
  {
   "cell_type": "code",
   "execution_count": 81,
   "id": "2d8d78a0",
   "metadata": {},
   "outputs": [
    {
     "data": {
      "text/html": [
       "<div>\n",
       "<style scoped>\n",
       "    .dataframe tbody tr th:only-of-type {\n",
       "        vertical-align: middle;\n",
       "    }\n",
       "\n",
       "    .dataframe tbody tr th {\n",
       "        vertical-align: top;\n",
       "    }\n",
       "\n",
       "    .dataframe thead th {\n",
       "        text-align: right;\n",
       "    }\n",
       "</style>\n",
       "<table border=\"1\" class=\"dataframe\">\n",
       "  <thead>\n",
       "    <tr style=\"text-align: right;\">\n",
       "      <th></th>\n",
       "      <th>Loan_ID</th>\n",
       "      <th>Gender</th>\n",
       "      <th>Married</th>\n",
       "      <th>Dependents</th>\n",
       "      <th>Education</th>\n",
       "      <th>Self_Employed</th>\n",
       "      <th>ApplicantIncome</th>\n",
       "      <th>CoapplicantIncome</th>\n",
       "      <th>LoanAmount</th>\n",
       "      <th>Loan_Amount_Term</th>\n",
       "      <th>Credit_History</th>\n",
       "      <th>Property_Area</th>\n",
       "      <th>Loan_Status_Pred</th>\n",
       "    </tr>\n",
       "  </thead>\n",
       "  <tbody>\n",
       "    <tr>\n",
       "      <th>7</th>\n",
       "      <td>LP001056</td>\n",
       "      <td>Male</td>\n",
       "      <td>Yes</td>\n",
       "      <td>2</td>\n",
       "      <td>Not Graduate</td>\n",
       "      <td>No</td>\n",
       "      <td>3881</td>\n",
       "      <td>0</td>\n",
       "      <td>147.0</td>\n",
       "      <td>360.0</td>\n",
       "      <td>0.0</td>\n",
       "      <td>Rural</td>\n",
       "      <td>N</td>\n",
       "    </tr>\n",
       "    <tr>\n",
       "      <th>13</th>\n",
       "      <td>LP001094</td>\n",
       "      <td>Male</td>\n",
       "      <td>Yes</td>\n",
       "      <td>2</td>\n",
       "      <td>Graduate</td>\n",
       "      <td>NaN</td>\n",
       "      <td>12173</td>\n",
       "      <td>0</td>\n",
       "      <td>166.0</td>\n",
       "      <td>360.0</td>\n",
       "      <td>0.0</td>\n",
       "      <td>Semiurban</td>\n",
       "      <td>N</td>\n",
       "    </tr>\n",
       "    <tr>\n",
       "      <th>25</th>\n",
       "      <td>LP001153</td>\n",
       "      <td>Male</td>\n",
       "      <td>No</td>\n",
       "      <td>0</td>\n",
       "      <td>Graduate</td>\n",
       "      <td>No</td>\n",
       "      <td>0</td>\n",
       "      <td>24000</td>\n",
       "      <td>148.0</td>\n",
       "      <td>360.0</td>\n",
       "      <td>0.0</td>\n",
       "      <td>Rural</td>\n",
       "      <td>N</td>\n",
       "    </tr>\n",
       "    <tr>\n",
       "      <th>35</th>\n",
       "      <td>LP001203</td>\n",
       "      <td>Male</td>\n",
       "      <td>No</td>\n",
       "      <td>0</td>\n",
       "      <td>Graduate</td>\n",
       "      <td>No</td>\n",
       "      <td>3150</td>\n",
       "      <td>0</td>\n",
       "      <td>176.0</td>\n",
       "      <td>360.0</td>\n",
       "      <td>0.0</td>\n",
       "      <td>Semiurban</td>\n",
       "      <td>N</td>\n",
       "    </tr>\n",
       "    <tr>\n",
       "      <th>55</th>\n",
       "      <td>LP001313</td>\n",
       "      <td>Male</td>\n",
       "      <td>No</td>\n",
       "      <td>0</td>\n",
       "      <td>Graduate</td>\n",
       "      <td>No</td>\n",
       "      <td>2750</td>\n",
       "      <td>0</td>\n",
       "      <td>130.0</td>\n",
       "      <td>360.0</td>\n",
       "      <td>0.0</td>\n",
       "      <td>Urban</td>\n",
       "      <td>N</td>\n",
       "    </tr>\n",
       "    <tr>\n",
       "      <th>...</th>\n",
       "      <td>...</td>\n",
       "      <td>...</td>\n",
       "      <td>...</td>\n",
       "      <td>...</td>\n",
       "      <td>...</td>\n",
       "      <td>...</td>\n",
       "      <td>...</td>\n",
       "      <td>...</td>\n",
       "      <td>...</td>\n",
       "      <td>...</td>\n",
       "      <td>...</td>\n",
       "      <td>...</td>\n",
       "      <td>...</td>\n",
       "    </tr>\n",
       "    <tr>\n",
       "      <th>325</th>\n",
       "      <td>LP002802</td>\n",
       "      <td>Male</td>\n",
       "      <td>No</td>\n",
       "      <td>0</td>\n",
       "      <td>Graduate</td>\n",
       "      <td>No</td>\n",
       "      <td>2875</td>\n",
       "      <td>2416</td>\n",
       "      <td>95.0</td>\n",
       "      <td>6.0</td>\n",
       "      <td>0.0</td>\n",
       "      <td>Semiurban</td>\n",
       "      <td>N</td>\n",
       "    </tr>\n",
       "    <tr>\n",
       "      <th>339</th>\n",
       "      <td>LP002858</td>\n",
       "      <td>Female</td>\n",
       "      <td>No</td>\n",
       "      <td>0</td>\n",
       "      <td>Graduate</td>\n",
       "      <td>No</td>\n",
       "      <td>4333</td>\n",
       "      <td>2333</td>\n",
       "      <td>162.0</td>\n",
       "      <td>360.0</td>\n",
       "      <td>0.0</td>\n",
       "      <td>Rural</td>\n",
       "      <td>N</td>\n",
       "    </tr>\n",
       "    <tr>\n",
       "      <th>346</th>\n",
       "      <td>LP002879</td>\n",
       "      <td>Male</td>\n",
       "      <td>Yes</td>\n",
       "      <td>0</td>\n",
       "      <td>Graduate</td>\n",
       "      <td>No</td>\n",
       "      <td>3391</td>\n",
       "      <td>1966</td>\n",
       "      <td>133.0</td>\n",
       "      <td>360.0</td>\n",
       "      <td>0.0</td>\n",
       "      <td>Rural</td>\n",
       "      <td>N</td>\n",
       "    </tr>\n",
       "    <tr>\n",
       "      <th>351</th>\n",
       "      <td>LP002901</td>\n",
       "      <td>Male</td>\n",
       "      <td>No</td>\n",
       "      <td>0</td>\n",
       "      <td>Graduate</td>\n",
       "      <td>No</td>\n",
       "      <td>2283</td>\n",
       "      <td>15000</td>\n",
       "      <td>106.0</td>\n",
       "      <td>360.0</td>\n",
       "      <td>NaN</td>\n",
       "      <td>Rural</td>\n",
       "      <td>N</td>\n",
       "    </tr>\n",
       "    <tr>\n",
       "      <th>354</th>\n",
       "      <td>LP002921</td>\n",
       "      <td>Male</td>\n",
       "      <td>Yes</td>\n",
       "      <td>3+</td>\n",
       "      <td>Not Graduate</td>\n",
       "      <td>No</td>\n",
       "      <td>5316</td>\n",
       "      <td>187</td>\n",
       "      <td>158.0</td>\n",
       "      <td>180.0</td>\n",
       "      <td>0.0</td>\n",
       "      <td>Semiurban</td>\n",
       "      <td>N</td>\n",
       "    </tr>\n",
       "  </tbody>\n",
       "</table>\n",
       "<p>64 rows × 13 columns</p>\n",
       "</div>"
      ],
      "text/plain": [
       "      Loan_ID  Gender Married Dependents     Education Self_Employed  \\\n",
       "7    LP001056    Male     Yes          2  Not Graduate            No   \n",
       "13   LP001094    Male     Yes          2      Graduate           NaN   \n",
       "25   LP001153    Male      No          0      Graduate            No   \n",
       "35   LP001203    Male      No          0      Graduate            No   \n",
       "55   LP001313    Male      No          0      Graduate            No   \n",
       "..        ...     ...     ...        ...           ...           ...   \n",
       "325  LP002802    Male      No          0      Graduate            No   \n",
       "339  LP002858  Female      No          0      Graduate            No   \n",
       "346  LP002879    Male     Yes          0      Graduate            No   \n",
       "351  LP002901    Male      No          0      Graduate            No   \n",
       "354  LP002921    Male     Yes         3+  Not Graduate            No   \n",
       "\n",
       "     ApplicantIncome  CoapplicantIncome  LoanAmount  Loan_Amount_Term  \\\n",
       "7               3881                  0       147.0             360.0   \n",
       "13             12173                  0       166.0             360.0   \n",
       "25                 0              24000       148.0             360.0   \n",
       "35              3150                  0       176.0             360.0   \n",
       "55              2750                  0       130.0             360.0   \n",
       "..               ...                ...         ...               ...   \n",
       "325             2875               2416        95.0               6.0   \n",
       "339             4333               2333       162.0             360.0   \n",
       "346             3391               1966       133.0             360.0   \n",
       "351             2283              15000       106.0             360.0   \n",
       "354             5316                187       158.0             180.0   \n",
       "\n",
       "     Credit_History Property_Area Loan_Status_Pred  \n",
       "7               0.0         Rural                N  \n",
       "13              0.0     Semiurban                N  \n",
       "25              0.0         Rural                N  \n",
       "35              0.0     Semiurban                N  \n",
       "55              0.0         Urban                N  \n",
       "..              ...           ...              ...  \n",
       "325             0.0     Semiurban                N  \n",
       "339             0.0         Rural                N  \n",
       "346             0.0         Rural                N  \n",
       "351             NaN         Rural                N  \n",
       "354             0.0     Semiurban                N  \n",
       "\n",
       "[64 rows x 13 columns]"
      ]
     },
     "execution_count": 81,
     "metadata": {},
     "output_type": "execute_result"
    }
   ],
   "source": [
    "B[B.Loan_Status_Pred == \"N\"]\n"
   ]
  },
  {
   "cell_type": "markdown",
   "id": "a7bc4628",
   "metadata": {},
   "source": [
    "# b.)if duration is less than equal to 20 years, is customer eligible for required amount for some longer duration? What is that duration?(Regression)"
   ]
  },
  {
   "cell_type": "code",
   "execution_count": 83,
   "id": "fc0fe805",
   "metadata": {},
   "outputs": [],
   "source": [
    "test = B[B.Loan_Amount_Term <= 240]\n",
    "test.index = range(0,34)"
   ]
  },
  {
   "cell_type": "code",
   "execution_count": 84,
   "id": "f5802987",
   "metadata": {},
   "outputs": [],
   "source": [
    "replacer(A)\n",
    "Y = A[[\"Loan_Amount_Term\"]]\n",
    "X = A.drop(labels=[\"Loan_Amount_Term\",\"Loan_ID\",\"Loan_Status\"],axis=1)\n",
    "Xnew = preprocessing(X)\n",
    "from sklearn.model_selection import train_test_split\n",
    "xtrain,xtest,ytrain,ytest=train_test_split(Xnew,Y,test_size=0.2,random_state=21)"
   ]
  },
  {
   "cell_type": "code",
   "execution_count": 85,
   "id": "eab8c7bd",
   "metadata": {},
   "outputs": [
    {
     "data": {
      "text/plain": [
       "(614, 10)"
      ]
     },
     "execution_count": 85,
     "metadata": {},
     "output_type": "execute_result"
    }
   ],
   "source": [
    "X.shape\n"
   ]
  },
  {
   "cell_type": "code",
   "execution_count": 86,
   "id": "c15c894f",
   "metadata": {},
   "outputs": [
    {
     "data": {
      "text/plain": [
       "Index(['Gender', 'Married', 'Dependents', 'Education', 'Self_Employed',\n",
       "       'ApplicantIncome', 'CoapplicantIncome', 'LoanAmount', 'Credit_History',\n",
       "       'Property_Area'],\n",
       "      dtype='object')"
      ]
     },
     "execution_count": 86,
     "metadata": {},
     "output_type": "execute_result"
    }
   ],
   "source": [
    "X.columns\n"
   ]
  },
  {
   "cell_type": "code",
   "execution_count": 87,
   "id": "214fc606",
   "metadata": {},
   "outputs": [
    {
     "name": "stdout",
     "output_type": "stream",
     "text": [
      "training error:  36.63543788187373\n",
      "testing error:  34.83739837398374\n"
     ]
    }
   ],
   "source": [
    "lm = LinearRegression()\n",
    "find_overfit_con(lm,xtrain,xtest,ytrain,ytest)"
   ]
  },
  {
   "cell_type": "code",
   "execution_count": 89,
   "id": "23f433ad",
   "metadata": {},
   "outputs": [
    {
     "data": {
      "text/plain": [
       "array([[348.5],\n",
       "       [324.5],\n",
       "       [358.5],\n",
       "       [313. ],\n",
       "       [352.5],\n",
       "       [337. ],\n",
       "       [333.5],\n",
       "       [349. ],\n",
       "       [327. ],\n",
       "       [323.5],\n",
       "       [354.5],\n",
       "       [328.5],\n",
       "       [336. ],\n",
       "       [353. ],\n",
       "       [352.5],\n",
       "       [322.5],\n",
       "       [356. ],\n",
       "       [336.5],\n",
       "       [355. ],\n",
       "       [337.5],\n",
       "       [334. ],\n",
       "       [344. ],\n",
       "       [350. ],\n",
       "       [358.5],\n",
       "       [362.5],\n",
       "       [353. ],\n",
       "       [351. ],\n",
       "       [319.5],\n",
       "       [357.5],\n",
       "       [320. ],\n",
       "       [338. ],\n",
       "       [313. ],\n",
       "       [317.5],\n",
       "       [348. ]])"
      ]
     },
     "execution_count": 89,
     "metadata": {},
     "output_type": "execute_result"
    }
   ],
   "source": [
    "replacer(test)\n",
    "X = test.drop(labels=[\"Loan_Amount_Term\",\"Loan_ID\",'Loan_Status_Pred'],axis=1)\n",
    "Xnew = preprocessing(X)\n",
    "\n",
    "lm.predict(Xnew)\n"
   ]
  },
  {
   "cell_type": "code",
   "execution_count": 90,
   "id": "86c28f68",
   "metadata": {},
   "outputs": [
    {
     "data": {
      "text/plain": [
       "Index(['Gender', 'Married', 'Dependents', 'Education', 'Self_Employed',\n",
       "       'ApplicantIncome', 'CoapplicantIncome', 'LoanAmount', 'Credit_History',\n",
       "       'Property_Area'],\n",
       "      dtype='object')"
      ]
     },
     "execution_count": 90,
     "metadata": {},
     "output_type": "execute_result"
    }
   ],
   "source": [
    "X.columns\n"
   ]
  },
  {
   "cell_type": "code",
   "execution_count": null,
   "id": "3a73a1bf",
   "metadata": {},
   "outputs": [],
   "source": []
  }
 ],
 "metadata": {
  "kernelspec": {
   "display_name": "Python 3",
   "language": "python",
   "name": "python3"
  },
  "language_info": {
   "codemirror_mode": {
    "name": "ipython",
    "version": 3
   },
   "file_extension": ".py",
   "mimetype": "text/x-python",
   "name": "python",
   "nbconvert_exporter": "python",
   "pygments_lexer": "ipython3",
   "version": "3.8.8"
  }
 },
 "nbformat": 4,
 "nbformat_minor": 5
}
